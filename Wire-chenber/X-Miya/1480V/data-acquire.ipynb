{
 "cells": [
  {
   "cell_type": "code",
   "execution_count": 1,
   "metadata": {},
   "outputs": [],
   "source": [
    "import numpy as np\n",
    "import re\n",
    "import pandas as pd"
   ]
  },
  {
   "cell_type": "code",
   "execution_count": 2,
   "metadata": {},
   "outputs": [
    {
     "name": "stdout",
     "output_type": "stream",
     "text": [
      "a11 = 312.8010 ± 2.6100\n",
      "a12 = 25.2981 ± 0.4982\n",
      "a13 = 69.2913 ± 0.4615\n",
      "a21 = 62.2157 ± 1.4490\n",
      "a22 = 7.8271 ± 1.3260\n",
      "a23 = 52.7936 ± 1.5960\n",
      "フィッティングパラメータと誤差を 'fit_parameters_1480V.csv' に保存しました。\n"
     ]
    }
   ],
   "source": [
    "import re\n",
    "import pandas as pd\n",
    "\n",
    "# ログファイルの読み込み\n",
    "params = {}\n",
    "with open('fit.log', 'r') as f:\n",
    "    lines = f.readlines()\n",
    "\n",
    "    # 下側から「Final set of parameters」を探す\n",
    "    start_index = None\n",
    "    for i in range(len(lines)-1, -1, -1):  # 下から上に向かって探索\n",
    "        if \"Final set of parameters\" in lines[i]:\n",
    "            start_index = i\n",
    "            break\n",
    "\n",
    "    # 「Final set of parameters」から次のセクションまでのデータを取得\n",
    "    if start_index is not None:\n",
    "        for line in lines[start_index + 2:]:  # 最初の2行はヘッダー行なので無視\n",
    "            if \"correlation matrix\" in line:  # 相関行列が始まったら終了\n",
    "                break\n",
    "\n",
    "            # 正規表現で「パラメータ名 = 値 +/- 誤差」を抽出\n",
    "            match = re.match(r'(\\w+)\\s*=\\s*([\\d\\.e+-]+)\\s*\\+/-\\s*([\\d\\.e+-]+)', line)\n",
    "            if match:\n",
    "                param, value, error = match.groups()\n",
    "                # 数値変換\n",
    "                try:\n",
    "                    params[param] = (float(value), float(error))\n",
    "                except ValueError:\n",
    "                    print(f\"エラー: {line.strip()} は正しい数値形式ではありません。\")\n",
    "\n",
    "# 結果を表示\n",
    "if params:\n",
    "    for param, (value, error) in params.items():\n",
    "        print(f\"{param} = {value:.4f} ± {error:.4f}\")\n",
    "\n",
    "    # データフレームに変換してCSVに保存\n",
    "    df = pd.DataFrame.from_dict(params, orient='index', columns=['Value', 'Error'])\n",
    "    df.to_csv('fit_parameters_1480V.csv', index_label='Parameter')\n",
    "\n",
    "    print(\"フィッティングパラメータと誤差を 'fit_parameters_1480V.csv' に保存しました。\")\n",
    "else:\n",
    "    print(\"データの抽出に失敗しました。ログファイルの内容を確認してください。\")"
   ]
  },
  {
   "cell_type": "code",
   "execution_count": 3,
   "metadata": {},
   "outputs": [
    {
     "name": "stdout",
     "output_type": "stream",
     "text": [
      "CSVファイルに上書き保存しました。\n"
     ]
    }
   ],
   "source": [
    "#フィッティングように足した定数高を足して調整\n",
    "#複数回実行するとその分加算されるので注意\n",
    "\n",
    "import pandas as pd\n",
    "\n",
    "# CSVファイルの読み込み\n",
    "df = pd.read_csv('fit_parameters_1480V.csv')\n",
    "\n",
    "# 'Value'列の取り出し\n",
    "values = df['Value'].values\n",
    "# 'Error'列の取り出し\n",
    "errors = df['Error'].values\n",
    "\n",
    "# 数値データを個別に取り出す\n",
    "a11_value = df.loc[df['Parameter'] == 'a11', 'Value'].values[0]\n",
    "a11_error = df.loc[df['Parameter'] == 'a11', 'Error'].values[0]\n",
    "a12_value = df.loc[df['Parameter'] == 'a12', 'Value'].values[0]\n",
    "a22_value = df.loc[df['Parameter'] == 'a22', 'Value'].values[0]\n",
    "\n",
    "# a12に1200を加算\n",
    "a12_value = a12_value + 1100\n",
    "a22_value = a22_value + 870\n",
    "\n",
    "# DataFrameの該当する行を更\n",
    "df.loc[df['Parameter'] == 'a12', 'Value'] = a12_value\n",
    "df.loc[df['Parameter'] == 'a22', 'Value'] = a22_value\n",
    "\n",
    "# 変更をCSVファイルに上書き保存\n",
    "df.to_csv('fit_parameters_1480V.csv', index=False)\n",
    "\n",
    "print(\"CSVファイルに上書き保存しました。\")\n",
    "\n",
    "\n",
    "\n",
    "\n",
    "\n"
   ]
  },
  {
   "cell_type": "code",
   "execution_count": 4,
   "metadata": {},
   "outputs": [
    {
     "name": "stdout",
     "output_type": "stream",
     "text": [
      "0.005243055151341676 ± 2.321242767937156e-06\n"
     ]
    }
   ],
   "source": [
    "\n",
    "# CSVファイルの読み込み\n",
    "df = pd.read_csv('fit_parameters_1480V.csv')\n",
    "\n",
    "# 'Value'列と'Error'列の数値データを取り出す\n",
    "values = df['Value'].values\n",
    "errors = df['Error'].values\n",
    "\n",
    "a11_value = df.loc[df['Parameter'] == 'a11', 'Value'].values[0]\n",
    "a11_error = df.loc[df['Parameter'] == 'a11', 'Error'].values[0]\n",
    "a12_value = df.loc[df['Parameter'] == 'a12', 'Value'].values[0]\n",
    "a12_error = df.loc[df['Parameter'] == 'a12', 'Error'].values[0]\n",
    "a13_value = df.loc[df['Parameter'] == 'a13', 'Value'].values[0]\n",
    "a13_error = df.loc[df['Parameter'] == 'a13', 'Error'].values[0]\n",
    "a21_value = df.loc[df['Parameter'] == 'a21', 'Value'].values[0]\n",
    "a21_error = df.loc[df['Parameter'] == 'a21', 'Error'].values[0]\n",
    "a22_value = df.loc[df['Parameter'] == 'a22', 'Value'].values[0]\n",
    "a22_error = df.loc[df['Parameter'] == 'a22', 'Error'].values[0]\n",
    "a23_value = df.loc[df['Parameter'] == 'a23', 'Value'].values[0]\n",
    "a23_error = df.loc[df['Parameter'] == 'a23', 'Error'].values[0]\n",
    "\n",
    "# henkanとhenkanmissを計算\n",
    "henkan = 5.9 / a12_value\n",
    "henkan_error = 5.9 * a12_error / a12_value**2\n",
    "\n",
    "# 必要な値の計算\n",
    "FWHM_main=2*np.sqrt(2*np.log(2))*a13_value\n",
    "FWHM_main_keV=FWHM_main*henkan\n",
    "FWHM_main_error=2*np.sqrt(2*np.log(2))*a13_error\n",
    "FWHM_main_error_keV=np.sqrt(FWHM_main**2 *  henkan_error**2+ henkan**2 *FWHM_main_error**2)\n",
    "energy_resolution_main=FWHM_main_keV*100/5.9\n",
    "energy_resolution_error_main=FWHM_main_error_keV*100/5.9\n",
    "\n",
    "peak_value_main=a11_value\n",
    "peak_value_main_error=a11_error\n",
    "\n",
    "sub_peak=a22_value*henkan\n",
    "sub_peak_error=np.sqrt(sub_peak**2*henkan_error**2+henkan**2*a22_error**2)\n",
    "\n",
    "FWHM_sub=2*np.sqrt(2*np.log(2))*a23_value\n",
    "FWHM_sub_keV=FWHM_sub*henkan\n",
    "FWHM_sub_error=2*np.sqrt(2*np.log(2))*a23_error\n",
    "FWHM_sub_error_keV=np.sqrt(FWHM_sub**2*henkan_error**2+henkan**2*FWHM_sub_error**2)\n",
    "energy_resolution_sub=FWHM_sub_keV*100/5.9\n",
    "energy_resolution_error_sub=np.sqrt(FWHM_sub_error_keV**2/sub_peak**2+FWHM_sub_keV**2*sub_peak_error**2/sub_peak**4)\n",
    "\n",
    "peak_value_sub=a21_value\n",
    "peak_value_sub_error=a21_error\n",
    "\n",
    "print(henkan,'±',henkan_error)"
   ]
  },
  {
   "cell_type": "code",
   "execution_count": 5,
   "metadata": {},
   "outputs": [
    {
     "name": "stdout",
     "output_type": "stream",
     "text": [
      "主ピークのピーク値: 312.801 ± 2.61\n",
      "主ピークのFWHM(keV): 0.8555016656465456 ± 0.005710461819620509\n",
      "主ピークのエネルギー分解能: 14.500028231297382 ± 0.0967874884681442\n",
      "サブピークのピーク値: 62.2157 ± 1.449\n",
      "サブピークの中心(keV): 4.602495793781221 ± 0.006952299339291017\n",
      "サブピークのFWHM(keV): 0.6518136149195853 ± 0.019707049340414094\n",
      "サブピークのエネルギー分解能: 11.047688388467549 ± 0.004287158738528886\n"
     ]
    }
   ],
   "source": [
    "print('主ピークのピーク値:', peak_value_main,'±',peak_value_main_error)\n",
    "print('主ピークのFWHM(keV):', FWHM_main_keV,'±',FWHM_main_error_keV)\n",
    "print('主ピークのエネルギー分解能:', energy_resolution_main,'±',energy_resolution_error_main)\n",
    "print('サブピークのピーク値:', peak_value_sub,'±',peak_value_sub_error)\n",
    "print('サブピークの中心(keV):', sub_peak,'±',sub_peak_error)\n",
    "print('サブピークのFWHM(keV):', FWHM_sub_keV,'±',FWHM_sub_error_keV)\n",
    "print('サブピークのエネルギー分解能:', energy_resolution_sub,'±',energy_resolution_error_sub)\n",
    "\n"
   ]
  },
  {
   "cell_type": "code",
   "execution_count": 6,
   "metadata": {},
   "outputs": [
    {
     "name": "stdout",
     "output_type": "stream",
     "text": [
      "数値データが 'fit_results_1480.txt' に保存されました。\n"
     ]
    }
   ],
   "source": [
    "with open('fit_results_1480.txt', 'w') as file:\n",
    "    file.write(f\"{peak_value_main} {peak_value_main_error}\\n\")\n",
    "    file.write(f\"{FWHM_main_keV} {FWHM_main_error_keV}\\n\")\n",
    "    file.write(f\"{energy_resolution_main} {energy_resolution_error_main}\\n\")\n",
    "    file.write(f\"{peak_value_sub} {peak_value_sub_error}\\n\")\n",
    "    file.write(f\"{sub_peak} {sub_peak_error}\\n\")\n",
    "    file.write(f\"{FWHM_sub_keV} {FWHM_sub_error_keV}\\n\")\n",
    "    file.write(f\"{energy_resolution_sub} {energy_resolution_error_sub}\\n\")\n",
    "\n",
    "print(\"数値データが 'fit_results_1480.txt' に保存されました。\")"
   ]
  }
 ],
 "metadata": {
  "kernelspec": {
   "display_name": "Python 3",
   "language": "python",
   "name": "python3"
  },
  "language_info": {
   "codemirror_mode": {
    "name": "ipython",
    "version": 3
   },
   "file_extension": ".py",
   "mimetype": "text/x-python",
   "name": "python",
   "nbconvert_exporter": "python",
   "pygments_lexer": "ipython3",
   "version": "3.11.10"
  }
 },
 "nbformat": 4,
 "nbformat_minor": 2
}
