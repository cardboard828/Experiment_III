{
 "cells": [
  {
   "cell_type": "code",
   "execution_count": 12,
   "metadata": {},
   "outputs": [
    {
     "name": "stdout",
     "output_type": "stream",
     "text": [
      "結合されたファイルを combined_1500V.hist に保存しました。\n"
     ]
    }
   ],
   "source": [
    "import pandas as pd\n",
    "\n",
    "# ファイルパスを指定\n",
    "file1 = 'N1500V_150s.hist'\n",
    "file2 = 'N1500V_150sbg.hist'\n",
    "\n",
    "output_file = 'combined_1500V.hist'\n",
    "\n",
    "# 各ファイルを読み込む（列がスペースまたはタブ区切りである場合）\n",
    "data1 = pd.read_csv(file1, delim_whitespace=True, header=None, skiprows=3)\n",
    "data2 = pd.read_csv(file2, delim_whitespace=True, header=None, skiprows=3)\n",
    "\n",
    "# データを列方向に結合\n",
    "combined_data = pd.concat([data1, data2], axis=1)\n",
    "\n",
    "# 結合したデータを新しいファイルに保存\n",
    "combined_data.to_csv(output_file, sep='\\t', index=False, header=False)\n",
    "\n",
    "print(f\"結合されたファイルを {output_file} に保存しました。\")"
   ]
  },
  {
   "cell_type": "code",
   "execution_count": 1,
   "metadata": {},
   "outputs": [
    {
     "name": "stdout",
     "output_type": "stream",
     "text": [
      "結合されたファイルを combined_data.txt に保存しました。\n"
     ]
    }
   ],
   "source": [
    "#測定データ結合用\n",
    "import pandas as pd\n",
    "\n",
    "# ファイルパスを指定\n",
    "file1 = '1420V/fit_results_1420.txt'\n",
    "file2 = '1440V/fit_results_1440.txt'\n",
    "file3 = '1460V/fit_results_1460.txt'\n",
    "file4 = '1480V/fit_results_1480.txt'\n",
    "file5 = '1500V/fit_results_1500.txt'\n",
    "\n",
    "output_file = 'combined_data.txt'\n",
    "\n",
    "# 各ファイルを読み込む（列がスペースまたはタブ区切りである場合）\n",
    "data1 = pd.read_csv(file1, delim_whitespace=True, header=None)\n",
    "data2 = pd.read_csv(file2, delim_whitespace=True, header=None)\n",
    "data3 = pd.read_csv(file3, delim_whitespace=True, header=None)\n",
    "data4 = pd.read_csv(file4, delim_whitespace=True, header=None)\n",
    "data5 = pd.read_csv(file5, delim_whitespace=True, header=None)\n",
    "\n",
    "# データを列方向に結合\n",
    "combined_data = pd.concat([data1, data2, data3, data4, data5], axis=1)\n",
    "\n",
    "# 結合したデータを新しいファイルに保存\n",
    "combined_data.to_csv(output_file, sep='\\t', index=False, header=False)\n",
    "\n",
    "print(f\"結合されたファイルを {output_file} に保存しました。\")"
   ]
  }
 ],
 "metadata": {
  "kernelspec": {
   "display_name": "Python 3",
   "language": "python",
   "name": "python3"
  },
  "language_info": {
   "codemirror_mode": {
    "name": "ipython",
    "version": 3
   },
   "file_extension": ".py",
   "mimetype": "text/x-python",
   "name": "python",
   "nbconvert_exporter": "python",
   "pygments_lexer": "ipython3",
   "version": "3.11.10"
  }
 },
 "nbformat": 4,
 "nbformat_minor": 2
}
