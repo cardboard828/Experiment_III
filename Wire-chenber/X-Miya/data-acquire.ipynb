{
 "cells": [
  {
   "cell_type": "code",
   "execution_count": null,
   "metadata": {},
   "outputs": [
    {
     "name": "stdout",
     "output_type": "stream",
     "text": [
      "a11 = 256.9820 ± 2.4010\n",
      "a12 = 39.6706 ± 0.6692\n",
      "a13 = 83.9049 ± 0.5975\n",
      "a21 = 50.1271 ± 1.2560\n",
      "a22 = -3.5485 ± 1.7590\n",
      "a23 = 66.7410 ± 1.8020\n",
      "フィッティングパラメータと誤差を 'fit_parameters_1500V.csv' に保存しました。\n"
     ]
    }
   ],
   "source": [
    "import re\n",
    "import pandas as pd\n",
    "\n",
    "# ログファイルの読み込み\n",
    "params = {}\n",
    "with open('fit.log', 'r') as f:\n",
    "    lines = f.readlines()\n",
    "\n",
    "    # 下側から「Final set of parameters」を探す\n",
    "    start_index = None\n",
    "    for i in range(len(lines)-1, -1, -1):  # 下から上に向かって探索\n",
    "        if \"Final set of parameters\" in lines[i]:\n",
    "            start_index = i\n",
    "            break\n",
    "\n",
    "    # 「Final set of parameters」から次のセクションまでのデータを取得\n",
    "    if start_index is not None:\n",
    "        for line in lines[start_index + 2:]:  # 最初の2行はヘッダー行なので無視\n",
    "            if \"correlation matrix\" in line:  # 相関行列が始まったら終了\n",
    "                break\n",
    "\n",
    "            # 正規表現で「パラメータ名 = 値 +/- 誤差」を抽出\n",
    "            match = re.match(r'(\\w+)\\s*=\\s*([\\d\\.e+-]+)\\s*\\+/-\\s*([\\d\\.e+-]+)', line)\n",
    "            if match:\n",
    "                param, value, error = match.groups()\n",
    "                # 数値変換\n",
    "                try:\n",
    "                    params[param] = (float(value), float(error))\n",
    "                except ValueError:\n",
    "                    print(f\"エラー: {line.strip()} は正しい数値形式ではありません。\")\n",
    "\n",
    "# 結果を表示\n",
    "if params:\n",
    "    for param, (value, error) in params.items():\n",
    "        print(f\"{param} = {value:.4f} ± {error:.4f}\")\n",
    "\n",
    "    # データフレームに変換してCSVに保存\n",
    "    df = pd.DataFrame.from_dict(params, orient='index', columns=['Value', 'Error'])\n",
    "    df.to_csv('fit_parameters_1500V.csv', index_label='Parameter')\n",
    "\n",
    "    print(\"フィッティングパラメータと誤差を 'fit_parameters_1500V.csv' に保存しました。\")\n",
    "else:\n",
    "    print(\"データの抽出に失敗しました。ログファイルの内容を確認してください。\")"
   ]
  }
 ],
 "metadata": {
  "kernelspec": {
   "display_name": "Python 3",
   "language": "python",
   "name": "python3"
  },
  "language_info": {
   "codemirror_mode": {
    "name": "ipython",
    "version": 3
   },
   "file_extension": ".py",
   "mimetype": "text/x-python",
   "name": "python",
   "nbconvert_exporter": "python",
   "pygments_lexer": "ipython3",
   "version": "3.11.10"
  }
 },
 "nbformat": 4,
 "nbformat_minor": 2
}
