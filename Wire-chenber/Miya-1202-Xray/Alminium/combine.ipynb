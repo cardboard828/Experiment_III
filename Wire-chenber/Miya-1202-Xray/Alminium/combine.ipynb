{
 "cells": [
  {
   "cell_type": "code",
   "execution_count": 1,
   "metadata": {},
   "outputs": [
    {
     "name": "stdout",
     "output_type": "stream",
     "text": [
      "結合されたファイルを combined_data_Miya_Beta_Al_areas.txt に保存しました。\n"
     ]
    }
   ],
   "source": [
    "#測定データ結合用\n",
    "import pandas as pd\n",
    "\n",
    "# ファイルパスを指定\n",
    "file1 = 'Al1/fit_results_Al1_area.txt'\n",
    "file2 = 'Al2/fit_results_Al2_area.txt'\n",
    "file3 = 'Al3/fit_results_Al3_area.txt'\n",
    "file4 = 'Al4/fit_results_Al4_area.txt'\n",
    "file5 = 'Al5/fit_results_Al5_area.txt'\n",
    "file6 = 'Al6/fit_results_Al6_area.txt'\n",
    "\n",
    "output_file = 'combined_data_Miya_Beta_Al_areas.txt'\n",
    "\n",
    "# 各ファイルを読み込む（列がスペースまたはタブ区切りである場合）\n",
    "data1 = pd.read_csv(file1, delim_whitespace=True, header=None)\n",
    "data2 = pd.read_csv(file2, delim_whitespace=True, header=None)\n",
    "data3 = pd.read_csv(file3, delim_whitespace=True, header=None)\n",
    "data4 = pd.read_csv(file4, delim_whitespace=True, header=None)\n",
    "data5 = pd.read_csv(file5, delim_whitespace=True, header=None)\n",
    "data6 = pd.read_csv(file6, delim_whitespace=True, header=None)\n",
    "\n",
    "# データを列方向に結合\n",
    "combined_data = pd.concat([data1, data2, data3, data4, data5, data6], axis=1)\n",
    "\n",
    "# 結合したデータを新しいファイルに保存\n",
    "combined_data.to_csv(output_file, sep='\\t', index=False, header=False)\n",
    "\n",
    "print(f\"結合されたファイルを {output_file} に保存しました。\")"
   ]
  }
 ],
 "metadata": {
  "kernelspec": {
   "display_name": "Python 3",
   "language": "python",
   "name": "python3"
  },
  "language_info": {
   "codemirror_mode": {
    "name": "ipython",
    "version": 3
   },
   "file_extension": ".py",
   "mimetype": "text/x-python",
   "name": "python",
   "nbconvert_exporter": "python",
   "pygments_lexer": "ipython3",
   "version": "3.11.10"
  }
 },
 "nbformat": 4,
 "nbformat_minor": 2
}
