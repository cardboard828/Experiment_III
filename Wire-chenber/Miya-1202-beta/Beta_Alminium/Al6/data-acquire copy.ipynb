{
 "cells": [
  {
   "cell_type": "code",
   "execution_count": 1,
   "metadata": {},
   "outputs": [],
   "source": [
    "import numpy as np\n",
    "import re\n",
    "import pandas as pd"
   ]
  },
  {
   "cell_type": "code",
   "execution_count": 2,
   "metadata": {},
   "outputs": [
    {
     "name": "stdout",
     "output_type": "stream",
     "text": [
      "a11 = 127275.0000 ± 1305.0000\n",
      "a12 = 23.3507 ± 1.4730\n",
      "a13 = 174.4260 ± 2.2220\n",
      "フィッティングパラメータと誤差を 'fit_parameters_Al6.csv' に保存しました。\n"
     ]
    }
   ],
   "source": [
    "import re\n",
    "import pandas as pd\n",
    "\n",
    "# ログファイルの読み込み\n",
    "params = {}\n",
    "with open('fit.log', 'r') as f:\n",
    "    lines = f.readlines()\n",
    "\n",
    "    # 下側から「Final set of parameters」を探す\n",
    "    start_index = None\n",
    "    for i in range(len(lines)-1, -1, -1):  # 下から上に向かって探索\n",
    "        if \"Final set of parameters\" in lines[i]:\n",
    "            start_index = i\n",
    "            break\n",
    "\n",
    "    # 「Final set of parameters」から次のセクションまでのデータを取得\n",
    "    if start_index is not None:\n",
    "        for line in lines[start_index + 2:]:  # 最初の2行はヘッダー行なので無視\n",
    "            if \"correlation matrix\" in line:  # 相関行列が始まったら終了\n",
    "                break\n",
    "\n",
    "            # 正規表現で「パラメータ名 = 値 +/- 誤差」を抽出\n",
    "            match = re.match(r'(\\w+)\\s*=\\s*([\\d\\.e+-]+)\\s*\\+/-\\s*([\\d\\.e+-]+)', line)\n",
    "            if match:\n",
    "                param, value, error = match.groups()\n",
    "                # 数値変換\n",
    "                try:\n",
    "                    params[param] = (float(value), float(error))\n",
    "                except ValueError:\n",
    "                    print(f\"エラー: {line.strip()} は正しい数値形式ではありません。\")\n",
    "\n",
    "# 結果を表示\n",
    "if params:\n",
    "    for param, (value, error) in params.items():\n",
    "        print(f\"{param} = {value:.4f} ± {error:.4f}\")\n",
    "\n",
    "    # データフレームに変換してCSVに保存\n",
    "    df = pd.DataFrame.from_dict(params, orient='index', columns=['Value', 'Error'])\n",
    "    df.to_csv('fit_parameters_Al6.csv', index_label='Parameter')\n",
    "\n",
    "    print(\"フィッティングパラメータと誤差を 'fit_parameters_Al6.csv' に保存しました。\")\n",
    "else:\n",
    "    print(\"データの抽出に失敗しました。ログファイルの内容を確認してください。\")"
   ]
  },
  {
   "cell_type": "code",
   "execution_count": 3,
   "metadata": {},
   "outputs": [],
   "source": [
    "#フィッティングように足した定数高を足して調整\n",
    "#複数回実行するとその分加算されるので注意\n",
    "\n",
    "# import pandas as pd\n",
    "\n",
    "# # CSVファイルの読み込み\n",
    "# df = pd.read_csv('fit_parameters_1480V.csv')\n",
    "\n",
    "# # 'Value'列の取り出し\n",
    "# values = df['Value'].values\n",
    "# # 'Error'列の取り出し\n",
    "# errors = df['Error'].values\n",
    "\n",
    "# # 数値データを個別に取り出す\n",
    "# a11_value = df.loc[df['Parameter'] == 'a11', 'Value'].values[0]\n",
    "# a11_error = df.loc[df['Parameter'] == 'a11', 'Error'].values[0]\n",
    "# a12_value = df.loc[df['Parameter'] == 'a12', 'Value'].values[0]\n",
    "# a22_value = df.loc[df['Parameter'] == 'a22', 'Value'].values[0]\n",
    "\n",
    "# # a12に1200を加算\n",
    "# a12_value = a12_value + 1100\n",
    "# a22_value = a22_value + 870\n",
    "\n",
    "# # DataFrameの該当する行を更\n",
    "# df.loc[df['Parameter'] == 'a12', 'Value'] = a12_value\n",
    "# df.loc[df['Parameter'] == 'a22', 'Value'] = a22_value\n",
    "\n",
    "# # 変更をCSVファイルに上書き保存\n",
    "# df.to_csv('fit_parameters_1480V.csv', index=False)\n",
    "\n",
    "# print(\"CSVファイルに上書き保存しました。\")\n",
    "\n",
    "\n",
    "\n",
    "\n",
    "\n"
   ]
  },
  {
   "cell_type": "code",
   "execution_count": 4,
   "metadata": {},
   "outputs": [
    {
     "name": "stdout",
     "output_type": "stream",
     "text": [
      "主ピークの面積: 127275.0 ± 1305.0\n",
      "数値データが 'fit_results_Al6_area.txt' に保存されました。\n"
     ]
    }
   ],
   "source": [
    "\n",
    "# CSVファイルの読み込み\n",
    "df = pd.read_csv('fit_parameters_Al6.csv')\n",
    "\n",
    "# 'Value'列と'Error'列の数値データを取り出す\n",
    "values = df['Value'].values\n",
    "errors = df['Error'].values\n",
    "\n",
    "a11_value = df.loc[df['Parameter'] == 'a11', 'Value'].values[0]\n",
    "a11_error = df.loc[df['Parameter'] == 'a11', 'Error'].values[0]\n",
    "\n",
    "print('主ピークの面積:', a11_value,'±',a11_error)\n",
    "\n",
    "with open('fit_results_Al6_area.txt', 'w') as file:\n",
    "    file.write(f\"{a11_value} {a11_error}\\n\")\n",
    "print(\"数値データが 'fit_results_Al6_area.txt' に保存されました。\")"
   ]
  }
 ],
 "metadata": {
  "kernelspec": {
   "display_name": "Python 3",
   "language": "python",
   "name": "python3"
  },
  "language_info": {
   "codemirror_mode": {
    "name": "ipython",
    "version": 3
   },
   "file_extension": ".py",
   "mimetype": "text/x-python",
   "name": "python",
   "nbconvert_exporter": "python",
   "pygments_lexer": "ipython3",
   "version": "3.11.10"
  }
 },
 "nbformat": 4,
 "nbformat_minor": 2
}
