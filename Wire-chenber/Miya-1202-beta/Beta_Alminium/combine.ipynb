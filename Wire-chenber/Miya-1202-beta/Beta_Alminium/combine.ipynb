{
 "cells": [
  {
   "cell_type": "code",
   "execution_count": 4,
   "metadata": {},
   "outputs": [],
   "source": [
    "import pandas as pd"
   ]
  },
  {
   "cell_type": "code",
   "execution_count": 5,
   "metadata": {},
   "outputs": [
    {
     "name": "stdout",
     "output_type": "stream",
     "text": [
      "結合されたファイルを combined_data_Miya_Beta_Al_areas.txt に保存しました。\n"
     ]
    }
   ],
   "source": [
    "#測定データ結合用, 特に面積をまとめる\n",
    "\n",
    "# ファイルパスを指定\n",
    "file1 = 'Al1/fit_results_Al1_area.txt'\n",
    "file2 = 'Al2/fit_results_Al2_area.txt'\n",
    "file3 = 'Al3/fit_results_Al3_area.txt'\n",
    "file4 = 'Al4/fit_results_Al4_area.txt'\n",
    "file5 = 'Al5/fit_results_Al5_area.txt'\n",
    "file6 = 'Al6/fit_results_Al6_area.txt'\n",
    "\n",
    "output_file = 'combined_data_Miya_Beta_Al_areas.txt'\n",
    "\n",
    "# 各ファイルを読み込む（列がスペースまたはタブ区切りである場合）\n",
    "data1 = pd.read_csv(file1, delim_whitespace=True, header=None)\n",
    "data2 = pd.read_csv(file2, delim_whitespace=True, header=None)\n",
    "data3 = pd.read_csv(file3, delim_whitespace=True, header=None)\n",
    "data4 = pd.read_csv(file4, delim_whitespace=True, header=None)\n",
    "data5 = pd.read_csv(file5, delim_whitespace=True, header=None)\n",
    "data6 = pd.read_csv(file6, delim_whitespace=True, header=None)\n",
    "\n",
    "# データを列方向に結合\n",
    "combined_data = pd.concat([data1, data2, data3, data4, data5, data6], axis=1)\n",
    "\n",
    "# 結合したデータを新しいファイルに保存\n",
    "combined_data.to_csv(output_file, sep='\\t', index=False, header=False)\n",
    "\n",
    "print(f\"結合されたファイルを {output_file} に保存しました。\")"
   ]
  },
  {
   "cell_type": "code",
   "execution_count": 17,
   "metadata": {},
   "outputs": [
    {
     "name": "stdout",
     "output_type": "stream",
     "text": [
      "結合されたファイルを combined_data_Miya_Beta_Al_peak(ch).txt に保存しました。\n"
     ]
    }
   ],
   "source": [
    "#測定データ結合用，　上のコードを改善して元のcsvファイルから読めるようにした，　特にピーク値(ch)を抽出\n",
    "\n",
    "# ファイルパスをリストで管理\n",
    "files = [\n",
    "    'Al1/fit_parameters_Al1.csv',\n",
    "    'Al2/fit_parameters_Al2.csv',\n",
    "    'Al3/fit_parameters_Al3.csv',\n",
    "    'Al4/fit_parameters_Al4.csv',\n",
    "    'Al5/fit_parameters_Al5.csv',\n",
    "    'Al6/fit_parameters_Al6.csv'\n",
    "]\n",
    "\n",
    "output_file = 'combined_data_Miya_Beta_Al_peak(ch).txt'\n",
    "\n",
    "# 各ファイルを読み込んでリストに格納\n",
    "data_frames = [\n",
    "    pd.read_csv(file, sep=',', header=None, skiprows=2, nrows=1, usecols=[1, 2])\n",
    "    for file in files\n",
    "]\n",
    "\n",
    "# データを列方向に結合\n",
    "combined_data = pd.concat(data_frames, axis=1)\n",
    "\n",
    "# 結合したデータを新しいファイルに保存\n",
    "combined_data.to_csv(output_file, sep='\\t', index=False, header=False)\n",
    "\n",
    "print(f\"結合されたファイルを {output_file} に保存しました。\")\n"
   ]
  },
  {
   "cell_type": "code",
   "execution_count": 18,
   "metadata": {},
   "outputs": [
    {
     "name": "stdout",
     "output_type": "stream",
     "text": [
      "結合されたファイルを combined_data_Miya_Beta_Al_FWHM(ch).txt に保存しました。\n"
     ]
    }
   ],
   "source": [
    "#測定データ結合用，　上のコードを改善して元のcsvファイルから読めるようにした，　特にFWHM(ch)を抽出\n",
    "\n",
    "# ファイルパスをリストで管理\n",
    "files = [\n",
    "    'Al1/fit_parameters_Al1.csv',\n",
    "    'Al2/fit_parameters_Al2.csv',\n",
    "    'Al3/fit_parameters_Al3.csv',\n",
    "    'Al4/fit_parameters_Al4.csv',\n",
    "    'Al5/fit_parameters_Al5.csv',\n",
    "    'Al6/fit_parameters_Al6.csv'\n",
    "]\n",
    "\n",
    "output_file = 'combined_data_Miya_Beta_Al_FWHM(ch).txt'\n",
    "\n",
    "# 各ファイルを読み込んでリストに格納\n",
    "data_frames = [\n",
    "    pd.read_csv(file, sep=',', header=None, skiprows=3, nrows=1, usecols=[1, 2])\n",
    "    for file in files\n",
    "]\n",
    "\n",
    "# データを列方向に結合\n",
    "combined_data = pd.concat(data_frames, axis=1)\n",
    "\n",
    "# 結合したデータを新しいファイルに保存\n",
    "combined_data.to_csv(output_file, sep='\\t', index=False, header=False)\n",
    "\n",
    "print(f\"結合されたファイルを {output_file} に保存しました。\")\n"
   ]
  }
 ],
 "metadata": {
  "kernelspec": {
   "display_name": "Python 3",
   "language": "python",
   "name": "python3"
  },
  "language_info": {
   "codemirror_mode": {
    "name": "ipython",
    "version": 3
   },
   "file_extension": ".py",
   "mimetype": "text/x-python",
   "name": "python",
   "nbconvert_exporter": "python",
   "pygments_lexer": "ipython3",
   "version": "3.11.11"
  }
 },
 "nbformat": 4,
 "nbformat_minor": 2
}
