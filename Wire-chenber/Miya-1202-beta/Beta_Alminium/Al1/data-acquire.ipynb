{
 "cells": [
  {
   "cell_type": "code",
   "execution_count": 5,
   "metadata": {},
   "outputs": [],
   "source": [
    "import numpy as np\n",
    "import re\n",
    "import pandas as pd"
   ]
  },
  {
   "cell_type": "code",
   "execution_count": 6,
   "metadata": {},
   "outputs": [
    {
     "name": "stdout",
     "output_type": "stream",
     "text": [
      "a11 = 248898.0000 ± 1273.0000\n",
      "a12 = 878.9230 ± 0.5925\n",
      "a13 = 345.5580 ± 2.4700\n",
      "フィッティングパラメータと誤差を 'fit_parameters_Al1.csv' に保存しました。\n"
     ]
    }
   ],
   "source": [
    "import re\n",
    "import pandas as pd\n",
    "\n",
    "# ログファイルの読み込み\n",
    "params = {}\n",
    "with open('fit.log', 'r') as f:\n",
    "    lines = f.readlines()\n",
    "\n",
    "    # 下側から「Final set of parameters」を探す\n",
    "    start_index = None\n",
    "    for i in range(len(lines)-1, -1, -1):  # 下から上に向かって探索\n",
    "        if \"Final set of parameters\" in lines[i]:\n",
    "            start_index = i\n",
    "            break\n",
    "\n",
    "    # 「Final set of parameters」から次のセクションまでのデータを取得\n",
    "    if start_index is not None:\n",
    "        for line in lines[start_index + 2:]:  # 最初の2行はヘッダー行なので無視\n",
    "            if \"correlation matrix\" in line:  # 相関行列が始まったら終了\n",
    "                break\n",
    "\n",
    "            # 正規表現で「パラメータ名 = 値 +/- 誤差」を抽出\n",
    "            match = re.match(r'(\\w+)\\s*=\\s*([\\d\\.e+-]+)\\s*\\+/-\\s*([\\d\\.e+-]+)', line)\n",
    "            if match:\n",
    "                param, value, error = match.groups()\n",
    "                # 数値変換\n",
    "                try:\n",
    "                    params[param] = (float(value), float(error))\n",
    "                except ValueError:\n",
    "                    print(f\"エラー: {line.strip()} は正しい数値形式ではありません。\")\n",
    "\n",
    "# 結果を表示\n",
    "if params:\n",
    "    for param, (value, error) in params.items():\n",
    "        print(f\"{param} = {value:.4f} ± {error:.4f}\")\n",
    "\n",
    "    # データフレームに変換してCSVに保存\n",
    "    df = pd.DataFrame.from_dict(params, orient='index', columns=['Value', 'Error'])\n",
    "    df.to_csv('fit_parameters_Al1.csv', index_label='Parameter')\n",
    "\n",
    "    print(\"フィッティングパラメータと誤差を 'fit_parameters_Al1.csv' に保存しました。\")\n",
    "else:\n",
    "    print(\"データの抽出に失敗しました。ログファイルの内容を確認してください。\")"
   ]
  },
  {
   "cell_type": "code",
   "execution_count": 7,
   "metadata": {},
   "outputs": [
    {
     "name": "stdout",
     "output_type": "stream",
     "text": [
      "主ピークの面積: 248898.0 ± 1273.0\n",
      "数値データが 'fit_results_Al1_area.txt' に保存されました。\n"
     ]
    }
   ],
   "source": [
    "\n",
    "# CSVファイルの読み込み\n",
    "df = pd.read_csv('fit_parameters_Al1.csv')\n",
    "\n",
    "# 'Value'列と'Error'列の数値データを取り出す\n",
    "values = df['Value'].values\n",
    "errors = df['Error'].values\n",
    "\n",
    "a11_value = df.loc[df['Parameter'] == 'a11', 'Value'].values[0]\n",
    "a11_error = df.loc[df['Parameter'] == 'a11', 'Error'].values[0]\n",
    "\n",
    "print('主ピークの面積:', a11_value,'±',a11_error)\n",
    "\n",
    "with open('fit_results_Al1_area.txt', 'w') as file:\n",
    "    file.write(f\"{a11_value} {a11_error}\\n\")\n",
    "print(\"数値データが 'fit_results_Al1_area.txt' に保存されました。\")"
   ]
  }
 ],
 "metadata": {
  "kernelspec": {
   "display_name": "Python 3",
   "language": "python",
   "name": "python3"
  },
  "language_info": {
   "codemirror_mode": {
    "name": "ipython",
    "version": 3
   },
   "file_extension": ".py",
   "mimetype": "text/x-python",
   "name": "python",
   "nbconvert_exporter": "python",
   "pygments_lexer": "ipython3",
   "version": "3.11.11"
  }
 },
 "nbformat": 4,
 "nbformat_minor": 2
}
