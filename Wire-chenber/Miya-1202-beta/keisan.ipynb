{
 "cells": [
  {
   "cell_type": "code",
   "execution_count": 7,
   "metadata": {},
   "outputs": [],
   "source": [
    "import pandas as pd\n",
    "import matplotlib.pyplot as plt\n",
    "import numpy as np"
   ]
  },
  {
   "cell_type": "code",
   "execution_count": 8,
   "metadata": {},
   "outputs": [],
   "source": [
    "#Miya-1202-Xrayの1.5Vの測定結果を拝借，data-acquire.ipynbを参照\n",
    "henkan=0.00475932880879808\n",
    "henkan_error=2.569184780898793e-06"
   ]
  },
  {
   "cell_type": "code",
   "execution_count": 9,
   "metadata": {},
   "outputs": [
    {
     "name": "stdout",
     "output_type": "stream",
     "text": [
      "β線のFWHM(keV)\n",
      "3.8727939020355477 ± 0.027761017799077504\n"
     ]
    }
   ],
   "source": [
    "# FWHM\n",
    "file_path = 'Beta_Alminium/combined_data_Miya_Beta_Al_FWHM(ch).txt'\n",
    "\n",
    "# 特定の行のデータを読み込む（3行目から6行目までを取得）\n",
    "# header=Noneでヘッダーなしとして読み込む\n",
    "data = pd.read_csv(file_path, delim_whitespace=True, header=None, comment='#')\n",
    "\n",
    "# 表示したい特定の行をスライス（例：2行目から5行目まで）\n",
    "selected_data = data.iloc[0]  # 0-indexedで3行目から6行目\n",
    "\n",
    "y_values = selected_data[0]  # [386.009, 256.982]\n",
    "y_errors = selected_data[1]  # [2.861, 2.401]\n",
    "\n",
    "\n",
    "\n",
    "\n",
    "FWHM_main=2*np.sqrt(2*np.log(2))*y_values\n",
    "FWHM_main_keV=FWHM_main*henkan\n",
    "FWHM_main_error=2*np.sqrt(2*np.log(2))*y_errors\n",
    "FWHM_main_error_keV=np.sqrt(FWHM_main**2 *  henkan_error**2+ henkan**2 *FWHM_main_error**2)\n",
    "\n",
    "print(\"β線のFWHM(keV)\")\n",
    "print(FWHM_main_keV, '±', FWHM_main_error_keV)\n"
   ]
  },
  {
   "cell_type": "code",
   "execution_count": 11,
   "metadata": {},
   "outputs": [
    {
     "name": "stdout",
     "output_type": "stream",
     "text": [
      "β線のピーク値(keV)\n",
      "4.1830835546152345 ± 0.002819922798655032\n"
     ]
    }
   ],
   "source": [
    "# ピーク値（keV)\n",
    "file_path = 'Beta_Alminium/combined_data_Miya_Beta_Al_peak(ch).txt'\n",
    "\n",
    "# 特定の行のデータを読み込む（3行目から6行目までを取得）\n",
    "# header=Noneでヘッダーなしとして読み込む\n",
    "data = pd.read_csv(file_path, delim_whitespace=True, header=None, comment='#')\n",
    "\n",
    "# 表示したい特定の行をスライス（例：2行目から5行目まで）\n",
    "selected_data = data.iloc[0]  # 0-indexedで3行目から6行目\n",
    "\n",
    "y_values = selected_data[0]  # [386.009, 256.982]\n",
    "y_errors = selected_data[1]  # [2.861, 2.401]\n",
    "\n",
    "peak_keV=y_values*henkan\n",
    "peak_error_keV=np.sqrt(peak_keV**2*henkan_error**2+henkan**2*y_errors**2)\n",
    "\n",
    "print(\"β線のピーク値(keV)\")\n",
    "print(peak_keV, '±', peak_error_keV)"
   ]
  }
 ],
 "metadata": {
  "kernelspec": {
   "display_name": "Python 3",
   "language": "python",
   "name": "python3"
  },
  "language_info": {
   "codemirror_mode": {
    "name": "ipython",
    "version": 3
   },
   "file_extension": ".py",
   "mimetype": "text/x-python",
   "name": "python",
   "nbconvert_exporter": "python",
   "pygments_lexer": "ipython3",
   "version": "3.11.11"
  }
 },
 "nbformat": 4,
 "nbformat_minor": 2
}
